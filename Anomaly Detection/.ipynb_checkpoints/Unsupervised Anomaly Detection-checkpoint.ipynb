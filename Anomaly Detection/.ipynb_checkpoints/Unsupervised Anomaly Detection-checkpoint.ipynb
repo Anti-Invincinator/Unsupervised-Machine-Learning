{
 "cells": [
  {
   "cell_type": "markdown",
   "id": "3a9ab7bd-7803-4ceb-a155-fa39ffa3eff1",
   "metadata": {},
   "source": [
    "# Deep Unsupervised Learning "
   ]
  },
  {
   "cell_type": "markdown",
   "id": "e327fbe4-c25a-4cc5-b113-47306fd78443",
   "metadata": {},
   "source": [
    "## Phase 1: Unsupervised Anomaly Detection\n",
    "- Dataset: Fashion MNIST\n",
    "    - 10 class. 6k and 1k training and test images per class resp.\n",
    "- Evaluation: One-class out\n",
    "    - Each time treat 1 class as normal and the rest as anomaly.\n",
    "    - Repeat that for every class and report the average. \n"
   ]
  },
  {
   "cell_type": "markdown",
   "id": "168f1a7d-8e2a-46c8-bd86-fcb1cd90dc9c",
   "metadata": {},
   "source": [
    "## Dependencies"
   ]
  },
  {
   "cell_type": "code",
   "execution_count": 6,
   "id": "52b4ecc5-63f2-4f59-8fef-486cd8abe873",
   "metadata": {},
   "outputs": [],
   "source": [
    "import torch\n",
    "from torch import nn, optim\n",
    "from torchvision import datasets, transforms\n",
    "from torch.utils.data import DataLoader, Subset\n",
    "import numpy as np\n",
    "from collections import defaultdict\n",
    "import matplotlib.pyplot as plt"
   ]
  },
  {
   "cell_type": "markdown",
   "id": "11f6e191-aea5-4635-851e-02ca7fbcb707",
   "metadata": {},
   "source": [
    "## Loading the DataSet\n",
    "\n",
    "- Defining the transform\n",
    "- Downloading the entire dataset then parsing through it for required amount of train and test data\n",
    "\n",
    "I went with downloading the entire dataset instead of downloading the required amount to be able to cross reference with different data."
   ]
  },
  {
   "cell_type": "code",
   "execution_count": 5,
   "id": "42b32ec2-031b-4ca0-be61-de6281050bc7",
   "metadata": {},
   "outputs": [
    {
     "name": "stdout",
     "output_type": "stream",
     "text": [
      "Balanced Train Dataset Size: 60000\n",
      "Balanced Test Dataset Size: 10000\n"
     ]
    }
   ],
   "source": [
    "# Class names\n",
    "class_names = [\n",
    "    \"T-shirt/Top\", \"Trouser\", \"Pullover\", \"Dress\", \"Coat\",\n",
    "    \"Sandal\", \"Shirt\", \"Sneaker\", \"Bag\", \"Ankle Boot\"\n",
    "]\n",
    "\n",
    "transform = transforms.Compose([transforms.ToTensor()]) \n",
    "\n",
    "train_dataset_full = datasets.FashionMNIST(root='./data', train=True, download=True, transform=transform)\n",
    "test_dataset_full = datasets.FashionMNIST(root='./data', train=False, download=True, transform=transform)\n",
    "\n",
    "'''\n",
    "# A Custom function to get equal number of indices from each class \n",
    "# - Parses through the entire dataset, checks the created dictionary to have desired number of samples appends till suffice amount\n",
    "# - Returns the dictionary of selected indeces and the dataset as well.\n",
    "def get_balanced_subset(dataset, samples_per_class):\n",
    "    class_indices = defaultdict(list) \n",
    "\n",
    "    # Iterating through the entire dataset to collect indices\n",
    "    for index, (_, label) in enumerate(dataset):\n",
    "        if len(class_indices[label]) < samples_per_class:\n",
    "            class_indices[label].append(index)\n",
    "\n",
    "        # Stopping Criteria\n",
    "        if all(len(idxs) >= samples_per_class for idxs in class_indices.values()) and len(class_indices) == 10:\n",
    "            break\n",
    "\n",
    "\n",
    "    # Flatten all selected indices into a single list\n",
    "    selected_indices = [index for indices in class_indices.values() for index in indices]\n",
    "    return Subset(dataset, selected_indices)\n",
    "\n",
    "# Get 6,000 per class for training and 1,000 per class for testing\n",
    "train_dataset_balanced = get_balanced_subset(train_dataset_full, 6000)\n",
    "test_dataset_balanced = get_balanced_subset(test_dataset_full, 1000)\n",
    "\n",
    "# Sanity check\n",
    "print(f\"Balanced Train Dataset Size: {len(train_dataset_balanced)}\")  # Should be 60,000\n",
    "print(f\"Balanced Test Dataset Size: {len(test_dataset_balanced)}\")    # Should be 10,000\n",
    "'''"
   ]
  },
  {
   "cell_type": "code",
   "execution_count": 10,
   "id": "0b04867b-0bed-410e-93a0-3cff21c94e59",
   "metadata": {},
   "outputs": [],
   "source": [
    "dataset = datasets.FashionMNIST(root='./data', train=True, download=True, transform=transform)\n",
    "test_dataset = datasets.FashionMNIST(root='./data', train=False, download=True, transform=transform)"
   ]
  },
  {
   "cell_type": "code",
   "execution_count": 9,
   "id": "0e269936-650c-4358-a13f-cd7bc870be86",
   "metadata": {},
   "outputs": [],
   "source": [
    "# Splits the data into normal and anomalous data\n",
    "def get_one_class_dataset(dataset, normal_class):\n",
    "    \"\"\"\n",
    "    Extracts a dataset where `normal_class` is the only normal class.\n",
    "    All other classes are considered anomalies.\n",
    "    \"\"\"\n",
    "    normal_indices = [i for i, (_, label) in enumerate(dataset) if label == normal_class]\n",
    "    anomaly_indices = [i for i, (_, label) in enumerate(dataset) if label != normal_class]\n",
    "\n",
    "    normal_subset = Subset(dataset, normal_indices)  # Normal data\n",
    "    anomaly_subset = Subset(dataset, anomaly_indices)  # Anomalous data\n",
    "\n",
    "    return normal_subset, anomaly_subset"
   ]
  },
  {
   "cell_type": "code",
   "execution_count": 27,
   "id": "b868e192-ff1e-46de-90d8-c6a3ef597d15",
   "metadata": {},
   "outputs": [],
   "source": [
    "# Starting with T-shirt\n",
    "normal_class = 0  # Change this from 0 to 9 for different experiments\n",
    "train_normal, _ = get_one_class_dataset(dataset, normal_class)\n",
    "test_normal, test_anomaly = get_one_class_dataset(test_dataset, normal_class)\n",
    "\n",
    "# Create DataLoaders\n",
    "train_loader = DataLoader(train_normal, batch_size=64, shuffle=True)\n",
    "test_loader_normal = DataLoader(test_normal, batch_size=64, shuffle=False)\n",
    "test_loader_anomaly = DataLoader(test_anomaly, batch_size=64, shuffle=False)"
   ]
  },
  {
   "cell_type": "markdown",
   "id": "9fff2dbc-3af5-439d-b9c4-6e00786ce574",
   "metadata": {},
   "source": [
    "## Convolutional Auto Encoder"
   ]
  },
  {
   "cell_type": "code",
   "execution_count": 28,
   "id": "34c7a171-e7a3-46c4-9928-a553836359ab",
   "metadata": {},
   "outputs": [],
   "source": [
    "class ConvAE(nn.Module):\n",
    "    def __init__(self):\n",
    "        super(ConvAE, self).__init__()\n",
    "        \n",
    "        # Encoder\n",
    "        self.encoder = nn.Sequential(\n",
    "            nn.Conv2d(1, 32, 3, stride=2, padding=1),  # 28x28 -> 14x14\n",
    "            nn.ReLU(),\n",
    "            nn.Conv2d(32, 64, 3, stride=2, padding=1),  # 14x14 -> 7x7\n",
    "            nn.ReLU(),\n",
    "            nn.Conv2d(64, 128, 3, stride=2, padding=1),  # 7x7 -> 4x4\n",
    "            nn.ReLU()\n",
    "        )\n",
    "\n",
    "        # Decoder\n",
    "        self.decoder = nn.Sequential(\n",
    "            nn.ConvTranspose2d(128, 64, 3, stride=2, padding=1, output_padding=0),  # 4x4 -> 7x7\n",
    "            nn.ReLU(),\n",
    "            nn.ConvTranspose2d(64, 32, 3, stride=2, padding=1, output_padding=1),  # 7x7 -> 14x14\n",
    "            nn.ReLU(),\n",
    "            nn.ConvTranspose2d(32, 1, 3, stride=2, padding=1, output_padding=1),  # 14x14 -> 28x28\n",
    "            nn.Sigmoid()  # Normalize to [0,1]\n",
    "        )\n",
    "\n",
    "    def forward(self, x):\n",
    "        encoded = self.encoder(x)\n",
    "        decoded = self.decoder(encoded)\n",
    "        return decoded"
   ]
  },
  {
   "cell_type": "markdown",
   "id": "7f90dcd8-9358-4a8e-81b3-111f76075ee0",
   "metadata": {},
   "source": [
    "## Training"
   ]
  },
  {
   "cell_type": "code",
   "execution_count": 29,
   "id": "b5235b74-9057-4d26-8095-0d4167712a32",
   "metadata": {},
   "outputs": [
    {
     "name": "stdout",
     "output_type": "stream",
     "text": [
      "Epoch 1/10, Loss: 0.043769\n",
      "Epoch 2/10, Loss: 0.012875\n",
      "Epoch 3/10, Loss: 0.010282\n",
      "Epoch 4/10, Loss: 0.008867\n",
      "Epoch 5/10, Loss: 0.007873\n",
      "Epoch 6/10, Loss: 0.007185\n",
      "Epoch 7/10, Loss: 0.006581\n",
      "Epoch 8/10, Loss: 0.006082\n",
      "Epoch 9/10, Loss: 0.005593\n",
      "Epoch 10/10, Loss: 0.005223\n"
     ]
    }
   ],
   "source": [
    "device = torch.device(\"cuda\" if torch.cuda.is_available() else \"cpu\")\n",
    "model = ConvAE().to(device)\n",
    "criterion = nn.MSELoss() # Reconstruction Loss\n",
    "optimizer = optim.Adam(model.parameters(), lr=0.001)\n",
    "\n",
    "num_epochs = 10 \n",
    "train_losses = []\n",
    "\n",
    "for epoch in range(num_epochs):\n",
    "    model.train()\n",
    "    total_loss = 0\n",
    "    for images, _ in train_loader:\n",
    "        images = images.to(device)\n",
    "\n",
    "        optimizer.zero_grad()\n",
    "        outputs = model(images)\n",
    "        loss = criterion(outputs, images)  # Reconstruction loss\n",
    "        loss.backward()\n",
    "        optimizer.step()\n",
    "\n",
    "        total_loss += loss.item()\n",
    "\n",
    "    avg_loss = total_loss / len(train_loader)\n",
    "    train_losses.append(avg_loss)  # Store loss for plotting\n",
    "\n",
    "    print(f\"Epoch {epoch+1}/{num_epochs}, Loss: {avg_loss:.6f}\")\n"
   ]
  },
  {
   "cell_type": "markdown",
   "id": "46ab8c3c-6894-4000-a8f2-4eb7d2f8a5eb",
   "metadata": {},
   "source": [
    "## Plotting the Loss Curve"
   ]
  },
  {
   "cell_type": "code",
   "execution_count": 30,
   "id": "0a505735-401e-487e-8611-7d959eb07595",
   "metadata": {},
   "outputs": [
    {
     "data": {
      "image/png": "[encoded data removed]",
      "text/plain": [
       "<Figure size 800x500 with 1 Axes>"
      ]
     },
     "metadata": {},
     "output_type": "display_data"
    }
   ],
   "source": [
    "plt.figure(figsize=(8, 5))\n",
    "plt.plot(range(1, num_epochs + 1), train_losses, marker='o', linestyle='-', color='b')\n",
    "plt.xlabel(\"Epochs\")\n",
    "plt.ylabel(\"Loss (MSE)\")\n",
    "plt.title(\"Training Loss Curve\")\n",
    "plt.grid(True)\n",
    "plt.show()"
   ]
  },
  {
   "cell_type": "code",
   "execution_count": 31,
   "id": "5eb47599-56fd-4866-a2c4-d6d95c0ad217",
   "metadata": {},
   "outputs": [],
   "source": [
    "def compute_reconstruction_error(model, dataloader):\n",
    "    \"\"\"\n",
    "    Compute the mean reconstruction error for given dataset.\n",
    "    \"\"\"\n",
    "    model.eval()\n",
    "    errors = []\n",
    "    with torch.no_grad():\n",
    "        for images, _ in dataloader:\n",
    "            images = images.to(device)\n",
    "            reconstructions = model(images)\n",
    "            error = torch.mean((images - reconstructions) ** 2, dim=[1, 2, 3])\n",
    "            errors.extend(error.cpu().numpy())\n",
    "    return np.array(errors)\n",
    "\n",
    "# Compute errors\n",
    "normal_errors = compute_reconstruction_error(model, DataLoader(test_normal, batch_size=64, shuffle=False))\n",
    "anomaly_errors = compute_reconstruction_error(model, DataLoader(test_anomaly, batch_size=64, shuffle=False))"
   ]
  },
  {
   "cell_type": "code",
   "execution_count": 32,
   "id": "69206aa8-0126-4239-902d-55d82969e918",
   "metadata": {},
   "outputs": [
    {
     "data": {
      "image/png": "[encoded data removed]",
      "text/plain": [
       "<Figure size 800x500 with 1 Axes>"
      ]
     },
     "metadata": {},
     "output_type": "display_data"
    }
   ],
   "source": [
    "plt.figure(figsize=(8, 5))\n",
    "plt.hist(normal_errors, bins=50, alpha=0.7, label=\"Normal\")\n",
    "plt.hist(anomaly_errors, bins=50, alpha=0.7, label=\"Anomalous\")\n",
    "plt.xlabel(\"Reconstruction Error\")\n",
    "plt.ylabel(\"Frequency\")\n",
    "plt.legend()\n",
    "plt.title(f\"Anomaly Detection (Class {normal_class} Normal)\")\n",
    "plt.grid(True)\n",
    "plt.show()"
   ]
  },
  {
   "cell_type": "code",
   "execution_count": 26,
   "id": "2adace5e-434f-4f5a-b888-426a57cacc65",
   "metadata": {},
   "outputs": [
    {
     "name": "stdout",
     "output_type": "stream",
     "text": [
      "AUC Score: 81.4498%\n"
     ]
    }
   ],
   "source": [
    "from sklearn.metrics import roc_auc_score\n",
    "\n",
    "y_true = np.concatenate([np.zeros_like(normal_errors), np.ones_like(anomaly_errors)])  # 0 = Normal, 1 = Anomaly\n",
    "y_scores = np.concatenate([normal_errors, anomaly_errors])  # Higher error -> More anomalous\n",
    "\n",
    "auc = roc_auc_score(y_true, y_scores)\n",
    "print(f\"AUC Score: {auc * 100:.4f}%\")"
   ]
  },
  {
   "cell_type": "markdown",
   "id": "59640ea3-1eeb-4e8a-9339-deacb4355307",
   "metadata": {},
   "source": [
    "## Iterating and Repeating the same for all classes and comparing them"
   ]
  },
  {
   "cell_type": "code",
   "execution_count": 33,
   "id": "279cd2d4-a5b2-4bfd-ba2d-7026c7d585eb",
   "metadata": {},
   "outputs": [
    {
     "name": "stdout",
     "output_type": "stream",
     "text": [
      "\n",
      "Training Autoencoder for Class 0 as Normal Class...\n",
      "\n",
      "Class 0 - Epoch 1/5, Loss: 0.042229\n",
      "Class 0 - Epoch 2/5, Loss: 0.013563\n",
      "Class 0 - Epoch 3/5, Loss: 0.010460\n",
      "Class 0 - Epoch 4/5, Loss: 0.008862\n",
      "Class 0 - Epoch 5/5, Loss: 0.007764\n",
      "\n",
      "Training Autoencoder for Class 1 as Normal Class...\n",
      "\n",
      "Class 1 - Epoch 1/5, Loss: 0.044732\n",
      "Class 1 - Epoch 2/5, Loss: 0.007543\n",
      "Class 1 - Epoch 3/5, Loss: 0.005278\n",
      "Class 1 - Epoch 4/5, Loss: 0.004427\n",
      "Class 1 - Epoch 5/5, Loss: 0.003853\n",
      "\n",
      "Training Autoencoder for Class 2 as Normal Class...\n",
      "\n",
      "Class 2 - Epoch 1/5, Loss: 0.050716\n",
      "Class 2 - Epoch 2/5, Loss: 0.016944\n",
      "Class 2 - Epoch 3/5, Loss: 0.012262\n",
      "Class 2 - Epoch 4/5, Loss: 0.010088\n",
      "Class 2 - Epoch 5/5, Loss: 0.008477\n",
      "\n",
      "Training Autoencoder for Class 3 as Normal Class...\n",
      "\n",
      "Class 3 - Epoch 1/5, Loss: 0.048313\n",
      "Class 3 - Epoch 2/5, Loss: 0.013428\n",
      "Class 3 - Epoch 3/5, Loss: 0.009894\n",
      "Class 3 - Epoch 4/5, Loss: 0.008181\n",
      "Class 3 - Epoch 5/5, Loss: 0.007222\n",
      "\n",
      "Training Autoencoder for Class 4 as Normal Class...\n",
      "\n",
      "Class 4 - Epoch 1/5, Loss: 0.051677\n",
      "Class 4 - Epoch 2/5, Loss: 0.017713\n",
      "Class 4 - Epoch 3/5, Loss: 0.013358\n",
      "Class 4 - Epoch 4/5, Loss: 0.011308\n",
      "Class 4 - Epoch 5/5, Loss: 0.010157\n",
      "\n",
      "Training Autoencoder for Class 5 as Normal Class...\n",
      "\n",
      "Class 5 - Epoch 1/5, Loss: 0.077794\n",
      "Class 5 - Epoch 2/5, Loss: 0.021726\n",
      "Class 5 - Epoch 3/5, Loss: 0.013843\n",
      "Class 5 - Epoch 4/5, Loss: 0.010700\n",
      "Class 5 - Epoch 5/5, Loss: 0.008953\n",
      "\n",
      "Training Autoencoder for Class 6 as Normal Class...\n",
      "\n",
      "Class 6 - Epoch 1/5, Loss: 0.046924\n",
      "Class 6 - Epoch 2/5, Loss: 0.015013\n",
      "Class 6 - Epoch 3/5, Loss: 0.011741\n",
      "Class 6 - Epoch 4/5, Loss: 0.009821\n",
      "Class 6 - Epoch 5/5, Loss: 0.008182\n",
      "\n",
      "Training Autoencoder for Class 7 as Normal Class...\n",
      "\n",
      "Class 7 - Epoch 1/5, Loss: 0.091921\n",
      "Class 7 - Epoch 2/5, Loss: 0.015739\n",
      "Class 7 - Epoch 3/5, Loss: 0.010878\n",
      "Class 7 - Epoch 4/5, Loss: 0.008215\n",
      "Class 7 - Epoch 5/5, Loss: 0.006362\n",
      "\n",
      "Training Autoencoder for Class 8 as Normal Class...\n",
      "\n",
      "Class 8 - Epoch 1/5, Loss: 0.056457\n",
      "Class 8 - Epoch 2/5, Loss: 0.021391\n",
      "Class 8 - Epoch 3/5, Loss: 0.016107\n",
      "Class 8 - Epoch 4/5, Loss: 0.012872\n",
      "Class 8 - Epoch 5/5, Loss: 0.010878\n",
      "\n",
      "Training Autoencoder for Class 9 as Normal Class...\n",
      "\n",
      "Class 9 - Epoch 1/5, Loss: 0.052949\n",
      "Class 9 - Epoch 2/5, Loss: 0.013515\n",
      "Class 9 - Epoch 3/5, Loss: 0.009576\n",
      "Class 9 - Epoch 4/5, Loss: 0.007752\n",
      "Class 9 - Epoch 5/5, Loss: 0.006605\n"
     ]
    }
   ],
   "source": [
    "all_auc_scores = {}\n",
    "\n",
    "for normal_class in range(10):  # Loop through each class\n",
    "    print(f\"\\nTraining Autoencoder for Class {normal_class} as Normal Class...\\n\")\n",
    "\n",
    "    # Prepare data\n",
    "    train_normal, _ = get_one_class_dataset(dataset, normal_class)\n",
    "    test_normal, test_anomaly = get_one_class_dataset(test_dataset, normal_class)\n",
    "\n",
    "    train_loader = DataLoader(train_normal, batch_size=64, shuffle=True)\n",
    "    test_loader_normal = DataLoader(test_normal, batch_size=64, shuffle=False)\n",
    "    test_loader_anomaly = DataLoader(test_anomaly, batch_size=64, shuffle=False)\n",
    "\n",
    "    # Initialize model\n",
    "    model = ConvAE().to(device)\n",
    "    criterion = nn.MSELoss()\n",
    "    optimizer = optim.Adam(model.parameters(), lr=0.001)\n",
    "\n",
    "    # Train model\n",
    "    num_epochs = 5  # Reduce epochs for efficiency\n",
    "    for epoch in range(num_epochs):\n",
    "        model.train()\n",
    "        total_loss = 0\n",
    "        for images, _ in train_loader:\n",
    "            images = images.to(device)\n",
    "\n",
    "            optimizer.zero_grad()\n",
    "            outputs = model(images)\n",
    "            loss = criterion(outputs, images)  # Compute reconstruction loss\n",
    "            loss.backward()\n",
    "            optimizer.step()\n",
    "\n",
    "            total_loss += loss.item()\n",
    "\n",
    "        avg_loss = total_loss / len(train_loader)\n",
    "        print(f\"Class {normal_class} - Epoch {epoch+1}/{num_epochs}, Loss: {avg_loss:.6f}\")"
   ]
  },
  {
   "cell_type": "code",
   "execution_count": 37,
   "id": "6c9b570c-d346-4b4c-b9f1-4be51d451ec5",
   "metadata": {},
   "outputs": [
    {
     "name": "stdout",
     "output_type": "stream",
     "text": [
      "Class 9 AUC Score: 92.60%\n",
      "\n",
      "-------------------------------------\n",
      "Average AUC Score Across All Classes: 92.60%\n",
      "-------------------------------------\n"
     ]
    }
   ],
   "source": [
    "# reconstruction errors\n",
    "normal_errors = compute_reconstruction_error(model, test_loader_normal)\n",
    "anomaly_errors = compute_reconstruction_error(model, test_loader_anomaly)\n",
    "\n",
    "# AUC\n",
    "y_true = np.concatenate([np.zeros_like(normal_errors), np.ones_like(anomaly_errors)])  # 0 = Normal, 1 = Anomaly\n",
    "y_scores = np.concatenate([normal_errors, anomaly_errors])  # Higher error → More anomalous\n",
    "auc = roc_auc_score(y_true, y_scores)\n",
    "\n",
    "all_auc_scores[normal_class] = auc\n",
    "print(f\"Class {normal_class} AUC Score: {auc * 100:.2f}%\")\n",
    "\n",
    "# print the average AUC score across all classes\n",
    "average_auc = np.mean(list(all_auc_scores.values()))\n",
    "print(\"\\n-------------------------------------\")\n",
    "print(f\"Average AUC Score Across All Classes: {average_auc * 100:.2f}%\")\n",
    "print(\"-------------------------------------\")"
   ]
  },
  {
   "cell_type": "markdown",
   "id": "ddd30807-80f6-4ef8-8104-3ca180e65cb4",
   "metadata": {},
   "source": [
    "## Plotting the comparison"
   ]
  },
  {
   "cell_type": "code",
   "execution_count": 35,
   "id": "4f245c78-6bde-4eac-9d6c-ea433de7536b",
   "metadata": {},
   "outputs": [
    {
     "data": {
      "image/png": "[encoded data removed]",
      "text/plain": [
       "<Figure size 800x500 with 1 Axes>"
      ]
     },
     "metadata": {},
     "output_type": "display_data"
    }
   ],
   "source": [
    "plt.figure(figsize=(8, 5))\n",
    "plt.bar(range(10), list(all_auc_scores.values()), tick_label=[str(i) for i in range(10)])\n",
    "plt.xlabel(\"Normal Class (One-Class Out)\")\n",
    "plt.ylabel(\"AUC Score\")\n",
    "plt.title(\"AUC Score per Class for One-Class Out Anomaly Detection\")\n",
    "plt.ylim(0.5, 1.0)\n",
    "plt.grid(True)\n",
    "plt.show()"
   ]
  },
  {
   "cell_type": "markdown",
   "id": "8b264bab-9c51-45ce-858c-59982cb26fc3",
   "metadata": {},
   "source": [
    "- High AUC Scores indicates that the model performs well across all classes in Fashion MNIST.\n",
    "- Minimal Variances in AUC Scores, shows that the model is generalized.\n",
    "- Strong Anomaly detection capability as the score is substantial around ~95%"
   ]
  },
  {
   "cell_type": "code",
   "execution_count": null,
   "id": "f8d6afda-34be-42b9-a1b0-d5dbee754e5d",
   "metadata": {},
   "outputs": [],
   "source": []
  }
 ],
 "metadata": {
  "kernelspec": {
   "display_name": "Python 3 (ipykernel)",
   "language": "python",
   "name": "python3"
  },
  "language_info": {
   "codemirror_mode": {
    "name": "ipython",
    "version": 3
   },
   "file_extension": ".py",
   "mimetype": "text/x-python",
   "name": "python",
   "nbconvert_exporter": "python",
   "pygments_lexer": "ipython3",
   "version": "3.11.7"
  }
 },
 "nbformat": 4,
 "nbformat_minor": 5
}
