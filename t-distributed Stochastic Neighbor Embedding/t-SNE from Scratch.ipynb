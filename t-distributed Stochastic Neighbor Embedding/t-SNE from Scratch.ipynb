{
 "cells": [
  {
   "cell_type": "markdown",
   "id": "50c9fb0c-6470-400a-a7a4-4a448a69dd75",
   "metadata": {},
   "source": [
    "# Implementing t-SNE using NUMPY"
   ]
  },
  {
   "cell_type": "markdown",
   "id": "566b2d98-ccb1-4f1f-9468-858448a4c754",
   "metadata": {},
   "source": [
    "## Dependencies"
   ]
  },
  {
   "cell_type": "code",
   "execution_count": null,
   "id": "e0591f19-6c63-4b26-976d-7ed4934796ab",
   "metadata": {},
   "outputs": [],
   "source": [
    "!pip install scikit-learn matplotlib\n",
    "!pip install scipy"
   ]
  },
  {
   "cell_type": "code",
   "execution_count": null,
   "id": "6089c281-e71a-490f-925d-95f77593a8dd",
   "metadata": {},
   "outputs": [],
   "source": [
    "from sklearn.datasets import fetch_openml\n",
    "import numpy as np\n",
    "import matplotlib.pyplot as plt\n",
    "\n",
    "import pandas as pd"
   ]
  },
  {
   "cell_type": "markdown",
   "id": "c64d8547-83e8-4f1f-82b0-018bce2c11fa",
   "metadata": {},
   "source": [
    "## Loading the Dataset"
   ]
  },
  {
   "cell_type": "code",
   "execution_count": null,
   "id": "120f86ee-ae98-4fa9-861a-1b9a8db6d07c",
   "metadata": {},
   "outputs": [],
   "source": [
    "# MNIST dataset\n",
    "mnist = fetch_openml('mnist_784', version=1)\n",
    "X, y = mnist[\"data\"], mnist[\"target\"].astype(int)\n",
    "\n",
    "# Using only a subset of the dataset to help compute faster\n",
    "X = X[:5000]\n",
    "y = y[:5000]\n",
    "\n",
    "# Normalize the data\n",
    "X = X / 255.0  # Greyscale 0 - 255"
   ]
  },
  {
   "cell_type": "markdown",
   "id": "9d069afc-df1b-4289-97f4-0b8ac232e1e7",
   "metadata": {},
   "source": [
    "## Pre-existing Methodologies"
   ]
  },
  {
   "cell_type": "markdown",
   "id": "b515661e-d7fe-4967-8f4b-5cb9dec524b6",
   "metadata": {},
   "source": [
    "### t-SNE using scikit-learn"
   ]
  },
  {
   "cell_type": "code",
   "execution_count": null,
   "id": "6d3307d1-92fd-4746-8537-b151e8cba7b3",
   "metadata": {},
   "outputs": [],
   "source": [
    "tsne = TSNE(n_components=2, random_state=42, perplexity=30, max_iter=300)\n",
    "X_embedded = tsne.fit_transform(X)\n",
    "\n",
    "# Visualizing\n",
    "plt.figure(figsize=(10, 8))\n",
    "plt.scatter(X_embedded[:, 0], X_embedded[:, 1], c=y, cmap='jet', s=10)\n",
    "plt.colorbar()\n",
    "plt.title('t-SNE Visualization of MNIST Dataset')\n",
    "plt.xlabel('Component 1')\n",
    "plt.ylabel('Component 2')\n",
    "plt.show()"
   ]
  },
  {
   "cell_type": "markdown",
   "id": "5485b706-81e2-46ab-aeee-d38036dfb3dd",
   "metadata": {},
   "source": [
    "### Applying t-SNE in 3D"
   ]
  },
  {
   "cell_type": "code",
   "execution_count": null,
   "id": "47afc072-bfb8-4535-9678-fd9438878988",
   "metadata": {},
   "outputs": [],
   "source": [
    "from mpl_toolkits.mplot3d import Axes3D\n",
    "\n",
    "# Apply t-SNE with n_components=3\n",
    "tsne_3d = TSNE(n_components=3, random_state=42, perplexity=30, max_iter=300)\n",
    "X_embedded_3d = tsne_3d.fit_transform(X)\n",
    "\n",
    "\n",
    "# Visualization\n",
    "# Plot in 3D\n",
    "fig = plt.figure(figsize=(10, 8))\n",
    "ax = fig.add_subplot(111, projection='3d')\n",
    "scatter = ax.scatter(X_embedded_3d[:, 0], X_embedded_3d[:, 1], X_embedded_3d[:, 2], c=y, cmap='jet', s=10)\n",
    "plt.colorbar(scatter)\n",
    "ax.set_title('3D t-SNE Visualization of MNIST Dataset')\n",
    "ax.set_xlabel('Component 1')\n",
    "ax.set_ylabel('Component 2')\n",
    "ax.set_zlabel('Component 3')\n",
    "plt.show()"
   ]
  },
  {
   "cell_type": "markdown",
   "id": "9e81dc7d-52f2-4f83-becb-9683811358eb",
   "metadata": {},
   "source": [
    "## Implementing t-SNE using NUMPY\n",
    "\n",
    "references : <br> https://www.dailydoseofds.com/formulating-and-implementing-the-t-sne-algorithm-from-scratch/ <br>\n",
    "https://www.geeksforgeeks.org/students-t-distribution-in-statistics/"
   ]
  },
  {
   "cell_type": "code",
   "execution_count": null,
   "id": "73754d35-29b4-4a87-b64a-1c381f27e566",
   "metadata": {},
   "outputs": [],
   "source": [
    "from scipy.spatial.distance import pdist, squareform"
   ]
  },
  {
   "cell_type": "markdown",
   "id": "50cda110-7216-4ab5-ab1a-49c0b7a9a93c",
   "metadata": {},
   "source": [
    "### Step - 1 Pairwise Affinities (PD) in High-Dimensional Space"
   ]
  },
  {
   "attachments": {
    "20ec60a9-9702-4a8f-a2e6-3aa06205ab5c.png": {
     "image/png": "[encoded data removed]"
    },
    "d75beb88-99f0-4615-9227-76733b2fcaaa.png": {
     "image/png": "[encoded data removed]"
    },
    "e7b9ea34-e751-4f0e-ad2c-3c7269e35d6c.png": {
     "image/png": "[encoded data removed]"
    }
   },
   "cell_type": "markdown",
   "id": "dab82695-35d9-4881-b724-417eb250e19c",
   "metadata": {},
   "source": [
    "1. Pairwise Squared Euclidean Distance <br>\n",
    "![image.png](attachment:20ec60a9-9702-4a8f-a2e6-3aa06205ab5c.png)\n",
    "\n",
    "2. Gaussian Kernel <br>\n",
    "![image.png](attachment:e7b9ea34-e751-4f0e-ad2c-3c7269e35d6c.png)\n",
    "\n",
    "3. Symmetrize Probabilities <br>\n",
    "![image.png](attachment:d75beb88-99f0-4615-9227-76733b2fcaaa.png)"
   ]
  },
  {
   "cell_type": "code",
   "execution_count": null,
   "id": "6eaf5576-6c85-4878-b635-5ebe1b31520c",
   "metadata": {},
   "outputs": [],
   "source": [
    "def compute_pairwise_affinities(X, perplexity=30):\n",
    "    \"\"\"\n",
    "    Compute pairwise affinities (P_{j|i}) using a Gaussian kernel.\n",
    "    \"\"\"\n",
    "    n = X.shape[0]\n",
    "    distances = squareform(pdist(X, 'sqeuclidean'))  # Pairwise squared Euclidean distances\n",
    "    affinities = np.zeros((n, n))\n",
    "\n",
    "    for i in range(n):\n",
    "        beta = binary_search_beta(distances[i], perplexity)\n",
    "        affinities[i] = np.exp(-beta * distances[i])\n",
    "        affinities[i, i] = 0  # Set diagonal to 0, data point can't be a neighbour to itself\n",
    "\n",
    "    # Normalize row-wise to get conditional probabilities\n",
    "    eps = 1e-10\n",
    "    affinities /= np.sum(affinities, axis=1, keepdims=True) + eps  # Avoid NaNs\n",
    "\n",
    "    # Symmetrize P matrix properly\n",
    "    P = (affinities + affinities.T) / (2 * n)  # Normalize by 2n to get joint probabilities\n",
    "    P = np.maximum(P, 1e-10)  # Ensure no zero values\n",
    "    return P"
   ]
  },
  {
   "cell_type": "markdown",
   "id": "5f82fa6c-9ff8-4232-ac11-8465cc572990",
   "metadata": {},
   "source": [
    "### Step - 2 Binary Search for Optimal Variance "
   ]
  },
  {
   "attachments": {
    "1b3e8fae-47b7-4caf-b2f1-a578e2a90de7.png": {
     "image/png": "[encoded data removed]"
    },
    "df07e27c-5018-4ad4-b345-2824e1897503.png": {
     "image/png": "[encoded data removed]"
    }
   },
   "cell_type": "markdown",
   "id": "76cff7b9-9817-4e93-abeb-4b52311b4cbe",
   "metadata": {},
   "source": [
    "1. Perplexity <br>\n",
    "![image.png](attachment:df07e27c-5018-4ad4-b345-2824e1897503.png)\n",
    "\n",
    "    $H(P_i)$ is the Shannon entropy of $P_i$ <br>\n",
    "    ![image.png](attachment:1b3e8fae-47b7-4caf-b2f1-a578e2a90de7.png)\n",
    "\n",
    "2. Binary Search <br>\n",
    "    Adjust $σ_i$ until perplexity matches the desired value"
   ]
  },
  {
   "cell_type": "code",
   "execution_count": null,
   "id": "a4be6403-3397-4cae-8480-1fa20c438730",
   "metadata": {},
   "outputs": [],
   "source": [
    "def binary_search_beta(distances, perplexity, tol=1e-5, max_iter=50):\n",
    "    \"\"\"\n",
    "    Perform binary search to find the optimal beta (precision) for a given perplexity.\n",
    "    \"\"\"\n",
    "    n = len(distances)\n",
    "    beta = 1.0  # Initialize beta\n",
    "    beta_min, beta_max = None, None  # Initialize bounds\n",
    "    target_entropy = np.log(perplexity)  # Natural log for consistency\n",
    "\n",
    "    for _ in range(max_iter):\n",
    "        # Compute probabilities\n",
    "        probs = np.exp(-distances * beta)\n",
    "        probs /= np.sum(probs) + 1e-10  # Avoid division by zero\n",
    "\n",
    "        # Compute Shannon entropy\n",
    "        entropy = -np.sum(probs * np.log(np.maximum(probs, 1e-10)))  # Use natural log\n",
    "\n",
    "        # Check for convergence\n",
    "        if np.abs(entropy - target_entropy) < tol:\n",
    "            break\n",
    "\n",
    "        # Adjust beta\n",
    "        if entropy > target_entropy:\n",
    "            beta_min = beta\n",
    "            beta = beta * 2 if beta_max is None else (beta + beta_max) / 2\n",
    "        else:\n",
    "            beta_max = beta\n",
    "            beta = beta / 2 if beta_min is None else (beta + beta_min) / 2\n",
    "\n",
    "    return beta"
   ]
  },
  {
   "cell_type": "markdown",
   "id": "776c2743-4a1f-4991-8c4b-99cc6d5d1b7a",
   "metadata": {},
   "source": [
    "### Step 3 Compute Pairwise Affinities in Low-Dimensional Space and Gradient of KL Divergence\n",
    "In low-d space, we compute the probability of $Q_ij$ that point $y_i$ would pick $y_j$ as its neighbour using a heavy-tailed distribution(Student-t), this helps prevent crowding in low-dimensional space. <br>\n",
    "The goal is to minimize the KL Divergence between the high-dimensional $(P_ij)$ and low-dimensikonal $(Q_ij)$ distributions."
   ]
  },
  {
   "attachments": {
    "3b4ab3ca-a3a1-4034-b606-e3ed24fe7247.png": {
     "image/png": "[encoded data removed]"
    },
    "3b7b67d2-66c0-470b-954b-23145f828373.png": {
     "image/png": "[encoded data removed]"
    }
   },
   "cell_type": "markdown",
   "id": "be74d6ef-ac01-446e-a4ee-d00f98595ea0",
   "metadata": {},
   "source": [
    "1. Pairwise Squared Euclidean Distance (using the function defined above) <br>\n",
    "2. Student-t Kernal <br>\n",
    "![image.png](attachment:3b7b67d2-66c0-470b-954b-23145f828373.png)\n",
    "\n",
    "3. Gradient of KL Divergence <br>\n",
    "![image.png](attachment:3b4ab3ca-a3a1-4034-b606-e3ed24fe7247.png)"
   ]
  },
  {
   "cell_type": "code",
   "execution_count": null,
   "id": "c72c9f2a-7480-4e6d-9abd-05ee0bcebbaa",
   "metadata": {},
   "outputs": [],
   "source": [
    "def tsne(X, n_components=2, perplexity=30, n_iter=4000, learning_rate=200, iter_plot=100, exaggeration_factor=12.0):\n",
    "    \"\"\"\n",
    "    Perform t-SNE dimensionality reduction\n",
    "    \"\"\"\n",
    "    n = X.shape[0]\n",
    "    Y = np.random.randn(n, n_components) * 0.01  # Switched to a larger init\n",
    "\n",
    "    P = compute_pairwise_affinities(X, perplexity)\n",
    "    P *= exaggeration_factor  # Early exaggeration\n",
    "\n",
    "    for iter in range(n_iter):\n",
    "        # Compute pairwise affinities in low-dimensional space (Q_{ij})\n",
    "        distances = squareform(pdist(Y, 'sqeuclidean')) + 1e-10  # to Avoid zero distance\n",
    "        Q = (1 / (1 + distances))  # Student-t distribution\n",
    "        np.fill_diagonal(Q, 0)  # No self-affinity\n",
    "        Q /= np.sum(Q) + 1e-10  # Normalize\n",
    "\n",
    "        # While debugging Gradient Norm, I noticed it was 0, this might be due to P and Q being identical\n",
    "        # leading to the points not moving at all, so this is a check to add a small amount of noise to P if that's the case\n",
    "        if np.allclose(P, Q, atol=1e-5):\n",
    "            #print(\"Warning: P and Q are identical! Adding noise.\")\n",
    "            P += np.random.normal(0, 1e-5, P.shape)\n",
    "\n",
    "        # Compute gradient of KL divergence\n",
    "        grad = np.zeros_like(Y)\n",
    "        for i in range(n):\n",
    "            diff = Y[i] - Y\n",
    "            pq_diff = (P[i] - Q[i])[:, np.newaxis]  # Difference in probabilities\n",
    "            q_weighted = Q[i][:, np.newaxis] * diff  # Weighted difference\n",
    "            grad[i] = 4 * np.sum(pq_diff * q_weighted, axis=0)  # Correct force computation\n",
    "\n",
    "        # Clip gradients to prevent divergence\n",
    "        grad = np.clip(grad, -1, 1) \n",
    "\n",
    "        # Ensure gradients are nonzero before updating\n",
    "        grad_norm = np.linalg.norm(grad) / n\n",
    "        if grad_norm < 1e-6:\n",
    "            print(\"Warning: Gradient norm too small! Adding noise.\")\n",
    "            grad += np.random.normal(0, 1e-5, grad.shape)\n",
    "\n",
    "        # Update embedding\n",
    "        Y -= learning_rate * grad\n",
    "\n",
    "        # Gradually reduce exaggeration after 1000 iterations\n",
    "        if iter == 1000:\n",
    "            P /= exaggeration_factor\n",
    "\n",
    "        # Visualize intermediate results and printing average gradient norm \n",
    "        if iter % iter_plot == 0:\n",
    "            # Gradient\n",
    "            print(f\"Iteration {iter}: Avg Gradient Norm = {grad_norm:.6f}\")\n",
    "\n",
    "            # Scatter Plot of Data Points\n",
    "            plt.scatter(Y[:, 0], Y[:, 1], c=y, cmap='jet', s=10)\n",
    "            plt.title(f't-SNE Iteration {iter}')\n",
    "            plt.show()\n",
    "\n",
    "    return Y"
   ]
  },
  {
   "cell_type": "markdown",
   "id": "65289050-f252-4fb3-991e-05dc9ea30c0f",
   "metadata": {},
   "source": [
    "## Application"
   ]
  },
  {
   "cell_type": "code",
   "execution_count": null,
   "id": "971963c0-b80b-4123-acd8-ea17a353c29e",
   "metadata": {},
   "outputs": [],
   "source": [
    "# I am reducing the dataset to 1000 digits as I have increased the iterations to a large amount\n",
    "X = X[:1000].reshape(-1, 28*28)  # Flatten the images\n",
    "y = y[:1000]\n",
    "\n",
    "# Convert DataFrame/Series to NumPy arrays if necessary\n",
    "if isinstance(X, pd.DataFrame):\n",
    "    X = X.to_numpy()\n",
    "if isinstance(y, pd.Series):\n",
    "    y = y.to_numpy()\n",
    "\n",
    "# Print shapes and unique labels for debugging\n",
    "print(\"X shape:\", X.shape)\n",
    "print(\"y shape:\", y.shape)\n",
    "print(\"Unique labels in y:\", np.unique(y))\n",
    "\n",
    "# Apply t-SNE\n",
    "Y = tsne(X, n_components=2, perplexity=10, n_iter=300, learning_rate=10, iter_plot=50)\n",
    "\n",
    "# Final visualization\n",
    "plt.scatter(Y[:, 0], Y[:, 1], c=y, cmap='jet', s=10)\n",
    "plt.title('t-SNE Visualization of MNIST Dataset')\n",
    "plt.colorbar(label='Digit Class')\n",
    "plt.show()"
   ]
  },
  {
   "cell_type": "markdown",
   "id": "5378fd79-5cc9-4ccc-80d0-a7d59458a19e",
   "metadata": {},
   "source": [
    "It's evident that there are no distinct clusters"
   ]
  },
  {
   "cell_type": "markdown",
   "id": "6241bac8-cdc3-4772-bde3-f659353f5bc7",
   "metadata": {},
   "source": [
    "### Standardizing the Input and Applying PCA before applying t-SNE"
   ]
  },
  {
   "cell_type": "code",
   "execution_count": null,
   "id": "abad0910-b1ae-4831-b796-d5468e19f488",
   "metadata": {},
   "outputs": [],
   "source": [
    "# MNIST dataset\n",
    "mnist = fetch_openml('mnist_784', version=1)\n",
    "X, y = mnist[\"data\"], mnist[\"target\"].astype(int)\n",
    "\n",
    "# Using only a subset of the dataset to help compute faster\n",
    "X = X[:1000]\n",
    "y = y[:1000]\n",
    "\n",
    "sparsity = np.mean(X == 0)\n",
    "print(f\"Dataset Sparsity: {sparsity * 100:.2f}%\")\n",
    "\n",
    "# Converting Data to NumPy\n",
    "import pandas as pd\n",
    "if isinstance(X, pd.DataFrame):\n",
    "    X = X.to_numpy()\n",
    "if isinstance(y, pd.Series):\n",
    "    y = y.to_numpy()\n",
    "\n",
    "# Premptive measure as the data might not be centered\n",
    "X_scaled = StandardScaler().fit_transform(X)\n",
    "\n",
    "pca = PCA(n_components=100, random_state=42) # Hopefully this reduces the sparcity as well\n",
    "X_reduced = pca.fit_transform(X_scaled)\n",
    "\n",
    "# Check on the Variance Explained to Confirm Proper PCA\n",
    "explained_variance = sum(pca.explained_variance_ratio_)\n",
    "print(f\"Explained variance after PCA: {explained_variance:.2f}\")\n",
    "\n",
    "sparsity = np.mean(X_reduced == 0)\n",
    "print(f\"Dataset Sparsity: {sparsity * 100:.2f}%\")\n",
    "\n",
    "print(\"X shape:\", X_reduced.shape)  # Check shape\n",
    "print(\"y shape:\", y.shape)  # Check shape\n",
    "print(\"Unique labels in y:\", np.unique(y))  # Check class distribution\n",
    "print(\"First row of X:\", X_reduced[0])  # Check if X has valid numerical data\n",
    "\n",
    "# Reconstruct images\n",
    "X_reconstructed = pca.inverse_transform(X_reduced)\n",
    "\n",
    "# Visualize original vs reconstructed images\n",
    "fig, axes = plt.subplots(2, 5, figsize=(10, 5))\n",
    "for i in range(5):\n",
    "    axes[0, i].imshow(X[i].reshape(28, 28), cmap='gray')\n",
    "    axes[0, i].set_title(\"Original\")\n",
    "    axes[0, i].axis('off')\n",
    "    axes[1, i].imshow(X_reconstructed[i].reshape(28, 28), cmap='gray')\n",
    "    axes[1, i].set_title(\"Reconstructed\")\n",
    "    axes[1, i].axis('off')\n",
    "plt.show()"
   ]
  },
  {
   "cell_type": "code",
   "execution_count": null,
   "id": "e076bcd9-def1-4850-bb6d-12ea01422e90",
   "metadata": {},
   "outputs": [],
   "source": [
    "# Going with a lower perplexity and higher iterations and a much lower learning rate\n",
    "Y = tsne(X_reduced, n_components=2, perplexity=10, n_iter=4000, learning_rate=200, iter_plot = 200)\n",
    "\n",
    "# Final Plot\n",
    "plt.figure(figsize=(8,6))\n",
    "plt.scatter(Y[:, 0], Y[:, 1], c=y, cmap='jet', s=10, alpha=0.7)\n",
    "plt.colorbar()\n",
    "plt.title(\"t-SNE Visualization of MNIST Dataset\")\n",
    "plt.show()"
   ]
  },
  {
   "cell_type": "code",
   "execution_count": null,
   "id": "4524b627-74e6-4b50-9828-4268e6f1aac8",
   "metadata": {},
   "outputs": [],
   "source": []
  }
 ],
 "metadata": {
  "kernelspec": {
   "display_name": "Python 3 (ipykernel)",
   "language": "python",
   "name": "python3"
  },
  "language_info": {
   "codemirror_mode": {
    "name": "ipython",
    "version": 3
   },
   "file_extension": ".py",
   "mimetype": "text/x-python",
   "name": "python",
   "nbconvert_exporter": "python",
   "pygments_lexer": "ipython3",
   "version": "3.11.7"
  }
 },
 "nbformat": 4,
 "nbformat_minor": 5
}
